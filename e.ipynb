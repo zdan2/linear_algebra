{
 "cells": [
  {
   "cell_type": "code",
   "execution_count": 16,
   "metadata": {},
   "outputs": [],
   "source": [
    "import numpy as np\n",
    "import matplotlib.pyplot as plt"
   ]
  },
  {
   "cell_type": "code",
   "execution_count": 17,
   "metadata": {},
   "outputs": [],
   "source": [
    "m1=np.array([[1,2],[3,1]])"
   ]
  },
  {
   "cell_type": "code",
   "execution_count": 18,
   "metadata": {},
   "outputs": [
    {
     "name": "stdout",
     "output_type": "stream",
     "text": [
      "回転: 0.7853981633974483\n",
      " [[ 2.12132034  0.70710678]\n",
      " [ 2.82842712 -1.41421356]]\n"
     ]
    }
   ],
   "source": [
    "#回転\n",
    "theta=np.pi/4\n",
    "cos,sin=np.cos(theta),np.sin(theta)\n",
    "R=np.array([\n",
    "    [cos,-sin],\n",
    "    [sin,cos]\n",
    "])\n",
    "print(f'回転: {theta}\\n',m1@R)"
   ]
  },
  {
   "cell_type": "code",
   "execution_count": 19,
   "metadata": {},
   "outputs": [
    {
     "name": "stdout",
     "output_type": "stream",
     "text": [
      "拡大: 3\n",
      " [[3 6]\n",
      " [9 3]]\n"
     ]
    }
   ],
   "source": [
    "#拡大\n",
    "n=3\n",
    "expansion=np.array([\n",
    "    [n,0],\n",
    "    [0,n]\n",
    "])\n",
    "print(f'拡大: {n}\\n',m1@expansion)"
   ]
  },
  {
   "cell_type": "code",
   "execution_count": 20,
   "metadata": {},
   "outputs": [
    {
     "name": "stdout",
     "output_type": "stream",
     "text": [
      "せん断: 1\n",
      " [[1 3]\n",
      " [3 4]]\n"
     ]
    }
   ],
   "source": [
    "#せん断\n",
    "a=1\n",
    "shear=np.array([\n",
    "    [1,a],\n",
    "    [0,1]\n",
    "])\n",
    "print(f'せん断: {a}\\n',m1@shear)"
   ]
  },
  {
   "cell_type": "code",
   "execution_count": 21,
   "metadata": {},
   "outputs": [
    {
     "name": "stdout",
     "output_type": "stream",
     "text": [
      "[[-0.25881905 -0.96592583]\n",
      " [ 0.96592583 -0.25881905]]\n",
      "[[-0.25881905 -0.96592583]\n",
      " [ 0.96592583 -0.25881905]]\n"
     ]
    }
   ],
   "source": [
    "#32回転行列とその合成\n",
    "phi=np.pi/3\n",
    "cos2,sin2=np.cos(phi),np.sin(phi)\n",
    "R2=np.array([\n",
    "    [cos2,-sin2],\n",
    "    [sin2,cos2]\n",
    "])\n",
    "print(R@R2)\n",
    "print(R2@R)"
   ]
  },
  {
   "cell_type": "code",
   "execution_count": 22,
   "metadata": {},
   "outputs": [
    {
     "name": "stderr",
     "output_type": "stream",
     "text": [
      "C:\\Users\\katet\\AppData\\Roaming\\Python\\Python312\\site-packages\\IPython\\core\\pylabtools.py:152: UserWarning: Glyph 20803 (\\N{CJK UNIFIED IDEOGRAPH-5143}) missing from font(s) DejaVu Sans.\n",
      "  fig.canvas.print_figure(bytes_io, **kw)\n",
      "C:\\Users\\katet\\AppData\\Roaming\\Python\\Python312\\site-packages\\IPython\\core\\pylabtools.py:152: UserWarning: Glyph 12398 (\\N{HIRAGANA LETTER NO}) missing from font(s) DejaVu Sans.\n",
      "  fig.canvas.print_figure(bytes_io, **kw)\n",
      "C:\\Users\\katet\\AppData\\Roaming\\Python\\Python312\\site-packages\\IPython\\core\\pylabtools.py:152: UserWarning: Glyph 22522 (\\N{CJK UNIFIED IDEOGRAPH-57FA}) missing from font(s) DejaVu Sans.\n",
      "  fig.canvas.print_figure(bytes_io, **kw)\n",
      "C:\\Users\\katet\\AppData\\Roaming\\Python\\Python312\\site-packages\\IPython\\core\\pylabtools.py:152: UserWarning: Glyph 24213 (\\N{CJK UNIFIED IDEOGRAPH-5E95}) missing from font(s) DejaVu Sans.\n",
      "  fig.canvas.print_figure(bytes_io, **kw)\n"
     ]
    },
    {
     "data": {
      "image/png": "[encoded data removed]",
      "text/plain": [
       "<Figure size 640x480 with 1 Axes>"
      ]
     },
     "metadata": {},
     "output_type": "display_data"
    }
   ],
   "source": [
    "#33せん断行列\n",
    "# Identity (元の基底)\n",
    "\n",
    "I = np.eye(2)\n",
    "\n",
    "# Shear 行列（パラメータ a を好きな値に）\n",
    "a = 1\n",
    "shear2 = np.array([[1, 0],\n",
    "                   [a, 1]])\n",
    "\n",
    "# 元の基底ベクトル\n",
    "e1 = I[:, 0]    # (1, 0)\n",
    "e2 = I[:, 1]    # (0, 1)\n",
    "\n",
    "# Shear 後のベクトル\n",
    "v1 = shear2.dot(e1)   # -> (1, a)\n",
    "v2 = shear2.dot(e2)   # -> (0, 1)\n",
    "\n",
    "plt.figure()\n",
    "# 元のベクトルを薄いグレーで\n",
    "plt.quiver(0, 0, e1[0], e1[1],\n",
    "           angles='xy', scale_units='xy', scale=1,\n",
    "           color='gray', label='e1, e2 (元の基底)')\n",
    "plt.quiver(0, 0, e2[0], e2[1],\n",
    "           angles='xy', scale_units='xy', scale=1,\n",
    "           color='gray')\n",
    "\n",
    "# shear 後のベクトルを赤と青で\n",
    "plt.quiver(0, 0, v1[0], v1[1],\n",
    "           angles='xy', scale_units='xy', scale=1,\n",
    "           color='r', label='shear2·e1')\n",
    "plt.quiver(0, 0, v2[0], v2[1],\n",
    "           angles='xy', scale_units='xy', scale=1,\n",
    "           color='b', label='shear2·e2')\n",
    "\n",
    "# 軸の範囲を shear の大きさに合わせて調整\n",
    "margin = 0.5\n",
    "all_x = [e1[0], e2[0], v1[0], v2[0]]\n",
    "all_y = [e1[1], e2[1], v1[1], v2[1]]\n",
    "plt.xlim(min(all_x)-margin, max(all_x)+margin)\n",
    "plt.ylim(min(all_y)-margin, max(all_y)+margin)\n",
    "\n",
    "plt.axhline(0, color='k', linewidth=0.5)\n",
    "plt.axvline(0, color='k', linewidth=0.5)\n",
    "plt.legend()\n",
    "plt.gca().set_aspect('equal', 'box')\n",
    "plt.title(f'Shear matrix: a = {a}')\n",
    "plt.show()\n"
   ]
  },
  {
   "cell_type": "code",
   "execution_count": 23,
   "metadata": {},
   "outputs": [
    {
     "name": "stdout",
     "output_type": "stream",
     "text": [
      "2\n",
      "2\n",
      "2\n"
     ]
    }
   ],
   "source": [
    "#34行列のランク\n",
    "rank=np.linalg.matrix_rank(m1)\n",
    "print(rank)\n",
    "m2=np.array([\n",
    "    [0,0,0],\n",
    "    [1,1,1],\n",
    "    [0,0,1]\n",
    "])\n",
    "rank2=np.linalg.matrix_rank(m2)\n",
    "print(rank2)\n",
    "m3=np.array([\n",
    "    [1,0,0,1],\n",
    "    [0,1,1,0],\n",
    "    [0,1,1,0],\n",
    "    [1,0,0,1]\n",
    "])\n",
    "rank3=np.linalg.matrix_rank(m3)\n",
    "print(rank3)"
   ]
  },
  {
   "cell_type": "code",
   "execution_count": 24,
   "metadata": {},
   "outputs": [],
   "source": [
    "#行列のランク２\n",
    "def row_swap(A,i,j):\n",
    "    A[i],A[j]=A[j],A[i]\n",
    "\n",
    "def row_scale(A,i,k):\n",
    "    if k==0:\n",
    "        raise ValueError('k must be non-zero')\n",
    "    A[i]=[k*x for x in A[i]]\n",
    "\n",
    "def row_add(A,src,dest,k):\n",
    "    A[dest]=[d+k*s for d,s in zip(A[dest],A[src])]\n",
    "\n",
    "def gaussian_elmination(mat):\n",
    "    m,n=len(mat),len(mat[0])\n",
    "    pivot_cols=[]\n",
    "    row=0\n",
    "    for col in range(n):\n",
    "        sel=max(range(row,m),key=lambda r: abs(mat[r][col]))\n",
    "        if abs(mat[sel][col])<1**(-12):\n",
    "            continue\n",
    "        row_swap(mat,row,sel)\n",
    "        pivot_cols.append(col)\n",
    "        \n",
    "        pivot=mat[row][col]\n",
    "        mat[row]=[x/pivot for x in mat[row]]\n",
    "        \n",
    "        for r in range(m):\n",
    "            if r==row:\n",
    "                continue\n",
    "            factor=mat[r][col]\n",
    "            row_add(mat,row,r,-factor)\n",
    "        row+=1\n",
    "        if row==m:\n",
    "            break\n",
    "    return pivot_cols"
   ]
  },
  {
   "cell_type": "code",
   "execution_count": 25,
   "metadata": {},
   "outputs": [
    {
     "name": "stdout",
     "output_type": "stream",
     "text": [
      "[1.0, 0.0, 0.0, 1.34375]\n",
      "[0.0, 1.0, 0.0, -0.3125]\n",
      "[0.0, 0.0, 1.0, 1.125]\n"
     ]
    }
   ],
   "source": [
    "A=[\n",
    "    [2,1,5,8],\n",
    "    [4,-6,-2,5],\n",
    "    [2,3,2,4]\n",
    "]\n",
    "\n",
    "pivots=gaussian_elmination(A)\n",
    "\n",
    "for r in A:\n",
    "    print(r)"
   ]
  },
  {
   "cell_type": "code",
   "execution_count": 28,
   "metadata": {},
   "outputs": [
    {
     "name": "stdout",
     "output_type": "stream",
     "text": [
      "[[-0.0625      0.13541667  0.29166667]\n",
      " [-0.125      -0.0625      0.25      ]\n",
      " [ 0.25       -0.04166667 -0.16666667]]\n"
     ]
    }
   ],
   "source": [
    "A=np.array([\n",
    "    [2,1,5],\n",
    "    [4,-6,-2],\n",
    "    [2,3,2]\n",
    "])\n",
    "#36　逆行列\n",
    "Ainv=np.linalg.inv(A)\n",
    "print(Ainv)"
   ]
  },
  {
   "cell_type": "code",
   "execution_count": null,
   "metadata": {},
   "outputs": [],
   "source": [
    "\n",
    "B=np.array([\n",
    "    [1,2],\n",
    "    [3,4]\n",
    "])\n",
    "D=[[1,1],\n",
    "   [1,1]]\n",
    "#37 逆行列２\n",
    "def d2inv(A):\n",
    "    a,b,c,d=A[0][0],A[0][1],A[1][0],A[1][1]\n",
    "    if a*d-b*c==0:\n",
    "        raise ValueError('A-1 not exist')\n",
    "    det=1/(a*d-b*c)\n",
    "    B=np.array([\n",
    "        [det*d,det*(-b)],\n",
    "        [det*(-c),det*a]\n",
    "    ])\n",
    "    return B\n",
    "\n",
    "c=d2inv(B)\n",
    "print(c)\n",
    "#38逆行列が存在しない行列\n",
    "print(d2inv(D))"
   ]
  },
  {
   "cell_type": "code",
   "execution_count": 33,
   "metadata": {},
   "outputs": [
    {
     "name": "stdout",
     "output_type": "stream",
     "text": [
      "-2.0000000000000004\n"
     ]
    }
   ],
   "source": [
    "#39行列式\n",
    "det=np.linalg.det(B)\n",
    "print(det)"
   ]
  },
  {
   "cell_type": "code",
   "execution_count": 34,
   "metadata": {},
   "outputs": [
    {
     "name": "stdout",
     "output_type": "stream",
     "text": [
      "96.0\n"
     ]
    }
   ],
   "source": [
    "#40行列式２\n",
    "def d3det(A):\n",
    "    A = np.asarray(A, dtype=float)\n",
    "\n",
    "    if A.shape != (3, 3):\n",
    "        raise ValueError(\"det3: 3×3 行列だけが対象です\")\n",
    "\n",
    "    a11, a12, a13 = A[0]\n",
    "    a21, a22, a23 = A[1]\n",
    "    a31, a32, a33 = A[2]\n",
    "\n",
    "    return (\n",
    "        a11 * (a22 * a33 - a23 * a32)\n",
    "      - a12 * (a21 * a33 - a23 * a31)\n",
    "      + a13 * (a21 * a32 - a22 * a31)\n",
    "    )\n",
    "\n",
    "print(d3det(A))"
   ]
  }
 ],
 "metadata": {
  "kernelspec": {
   "display_name": "Python 3",
   "language": "python",
   "name": "python3"
  },
  "language_info": {
   "codemirror_mode": {
    "name": "ipython",
    "version": 3
   },
   "file_extension": ".py",
   "mimetype": "text/x-python",
   "name": "python",
   "nbconvert_exporter": "python",
   "pygments_lexer": "ipython3",
   "version": "3.12.1"
  }
 },
 "nbformat": 4,
 "nbformat_minor": 2
}
