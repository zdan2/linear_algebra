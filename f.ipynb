{
 "cells": [
  {
   "cell_type": "code",
   "execution_count": 54,
   "metadata": {},
   "outputs": [],
   "source": [
    "import numpy as np \n",
    "import scipy"
   ]
  },
  {
   "cell_type": "code",
   "execution_count": 30,
   "metadata": {},
   "outputs": [
    {
     "name": "stdout",
     "output_type": "stream",
     "text": [
      "[[0.10526316]\n",
      " [0.57894737]]\n"
     ]
    }
   ],
   "source": [
    "#41連立方程式の表現\n",
    "#43連立方程式を解く\n",
    "A1=np.array([\n",
    "    [1,5],\n",
    "    [5,6]\n",
    "])\n",
    "B1=np.array([\n",
    "    [3],\n",
    "    [4]\n",
    "])\n",
    "c=[[x],\n",
    "   [y]]\n",
    "print(np.linalg.solve(A1,B1))"
   ]
  },
  {
   "cell_type": "code",
   "execution_count": 25,
   "metadata": {},
   "outputs": [
    {
     "name": "stdout",
     "output_type": "stream",
     "text": [
      "[[ 0.48648649]\n",
      " [-0.16216216]\n",
      " [ 1.10810811]]\n"
     ]
    }
   ],
   "source": [
    "#42連率方程式の表現２\n",
    "#43連立方程式を解く\n",
    "A2=np.array([\n",
    "    [1,5,3],\n",
    "    [5,4,2],\n",
    "    [4,3,5]\n",
    "])\n",
    "B2=np.array([\n",
    "    [3],\n",
    "    [4],\n",
    "    [7]\n",
    "])\n",
    "c=[[x],\n",
    "   [y],\n",
    "   [z]]\n",
    "print(np.linalg.solve(A2,B2))"
   ]
  },
  {
   "cell_type": "code",
   "execution_count": 26,
   "metadata": {},
   "outputs": [],
   "source": [
    "#行列のランク２\n",
    "def row_swap(A,i,j):\n",
    "    A[i],A[j]=A[j],A[i]\n",
    "\n",
    "def row_scale(A,i,k):\n",
    "    if k==0:\n",
    "        raise ValueError('k must be non-zero')\n",
    "    A[i]=[k*x for x in A[i]]\n",
    "\n",
    "def row_add(A,src,dest,k):\n",
    "    A[dest]=[d+k*s for d,s in zip(A[dest],A[src])]\n",
    "\n",
    "def gaussian_elmination(mat):\n",
    "    m,n=len(mat),len(mat[0])\n",
    "    pivot_cols=[]\n",
    "    row=0\n",
    "    for col in range(n):\n",
    "        sel=max(range(row,m),key=lambda r: abs(mat[r][col]))\n",
    "        if abs(mat[sel][col])<1**(-12):\n",
    "            continue\n",
    "        row_swap(mat,row,sel)\n",
    "        pivot_cols.append(col)\n",
    "        \n",
    "        pivot=mat[row][col]\n",
    "        mat[row]=[x/pivot for x in mat[row]]\n",
    "        \n",
    "        for r in range(m):\n",
    "            if r==row:\n",
    "                continue\n",
    "            factor=mat[r][col]\n",
    "            row_add(mat,row,r,-factor)\n",
    "        row+=1\n",
    "        if row==m:\n",
    "            break\n",
    "    return pivot_cols"
   ]
  },
  {
   "cell_type": "code",
   "execution_count": 33,
   "metadata": {},
   "outputs": [
    {
     "name": "stdout",
     "output_type": "stream",
     "text": [
      "2\n",
      "[0, 1]\n",
      "[0, 1, 2]\n"
     ]
    }
   ],
   "source": [
    "A3 = np.concatenate((A1, B1), axis=1)\n",
    "print(np.linalg.matrix_rank(A3))\n",
    "print(gaussian_elmination(A3))\n",
    "A4=np.concatenate((A2,B2),axis=1)\n",
    "print(gaussian_elmination(A4))"
   ]
  },
  {
   "cell_type": "code",
   "execution_count": 52,
   "metadata": {},
   "outputs": [
    {
     "name": "stdout",
     "output_type": "stream",
     "text": [
      "[np.float64(1.4000000000000001), np.float64(0.19999999999999996)]\n",
      "[np.float64(0.7499999999999999), np.float64(1.75), np.float64(0.24999999999999986)]\n"
     ]
    }
   ],
   "source": [
    "#46,47クラメルの公式\n",
    "def cramer(A,B):\n",
    "    detA=np.linalg.det(A)\n",
    "    tA=[r for r in zip(*A)]\n",
    "    tB=[r for r in zip(*B)]\n",
    "    res=[]\n",
    "    for i in range(len(A)):\n",
    "        p=tA[i]\n",
    "        tA[i]=tB[0]\n",
    "        ttA=[r for r in zip(*tA)]\n",
    "        res.append(np.linalg.det(ttA)/detA)\n",
    "        tA[i]=p\n",
    "    return res\n",
    "\n",
    "A=[[1,3],[4,2]]\n",
    "B=[[2],[6]]\n",
    "C=cramer(A,B)\n",
    "print(C)\n",
    "A2=[[1,2,3],[3,2,1],[2,3,1]]\n",
    "B2=[[5],[6],[7]]\n",
    "C2=cramer(A2,B2)\n",
    "print(C2)"
   ]
  },
  {
   "cell_type": "code",
   "execution_count": 56,
   "metadata": {},
   "outputs": [
    {
     "name": "stdout",
     "output_type": "stream",
     "text": [
      "[[0. 0. 1.]\n",
      " [1. 0. 0.]\n",
      " [0. 1. 0.]]\n",
      "[[1.         0.         0.        ]\n",
      " [0.66666667 1.         0.        ]\n",
      " [0.33333333 0.8        1.        ]]\n",
      "[[3.         2.         1.        ]\n",
      " [0.         1.66666667 0.33333333]\n",
      " [0.         0.         2.4       ]]\n"
     ]
    }
   ],
   "source": [
    "#48,49 LU分解\n",
    "Alu=scipy.linalg.lu(A2)\n",
    "for mx in Alu:\n",
    "    print(mx)"
   ]
  },
  {
   "cell_type": "code",
   "execution_count": 58,
   "metadata": {},
   "outputs": [
    {
     "name": "stdout",
     "output_type": "stream",
     "text": [
      "連立方程式の解 x:\n",
      " scipy: [-0.5  14.   -5.75] numpy: [-0.5  14.   -5.75]\n",
      "A @ x:\n",
      " [23. 14. 32.]\n",
      "Is A @ x close to b?: True\n"
     ]
    }
   ],
   "source": [
    "from scipy.linalg import lu_factor, lu_solve\n",
    "\n",
    "# 係数行列 A\n",
    "A = np.array([[2, 5, 8],\n",
    "              [5, 2, 2],\n",
    "              [7, 5, 6]])\n",
    "\n",
    "# 定数項ベクトル b\n",
    "b = np.array([23, 14, 32])\n",
    "\n",
    "# 1. 行列 A を LU 分解する (lu_factor を使用)\n",
    "# lu_factor は (LUを組み合わせた行列, ピボット情報) のタプルを返す\n",
    "lu_and_piv = lu_factor(A)\n",
    "\n",
    "# 2. LU 分解の結果と b を使って連立方程式を解く\n",
    "x = lu_solve(lu_and_piv, b)\n",
    "x2 = np.linalg.solve(A,b)\n",
    "# 解を表示\n",
    "print(\"連立方程式の解 x:\\n\", 'scipy:',x,'numpy:',x2)\n",
    "\n",
    "# 検算: A @ x が b に等しくなるか確認\n",
    "print(\"A @ x:\\n\", A @ x)\n",
    "print(\"Is A @ x close to b?:\", np.allclose(A @ x, b))"
   ]
  },
  {
   "cell_type": "code",
   "execution_count": null,
   "metadata": {},
   "outputs": [],
   "source": [
    "#50連立方程式の数値誤差\n",
    "#観察済み"
   ]
  }
 ],
 "metadata": {
  "kernelspec": {
   "display_name": "Python 3",
   "language": "python",
   "name": "python3"
  },
  "language_info": {
   "codemirror_mode": {
    "name": "ipython",
    "version": 3
   },
   "file_extension": ".py",
   "mimetype": "text/x-python",
   "name": "python",
   "nbconvert_exporter": "python",
   "pygments_lexer": "ipython3",
   "version": "3.12.1"
  }
 },
 "nbformat": 4,
 "nbformat_minor": 2
}
