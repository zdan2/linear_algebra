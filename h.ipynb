{
 "cells": [
  {
   "cell_type": "code",
   "execution_count": 3,
   "metadata": {},
   "outputs": [],
   "source": [
    "import numpy as np\n",
    "import matplotlib.pyplot as plt"
   ]
  },
  {
   "cell_type": "code",
   "execution_count": null,
   "metadata": {},
   "outputs": [],
   "source": [
    "import sys, importlib.util, pprint\n",
    "print(\"Python exe :\", sys.executable)\n",
    "print(\"NumPy path :\", importlib.util.find_spec(\"numpy\"))"
   ]
  },
  {
   "cell_type": "code",
   "execution_count": null,
   "metadata": {},
   "outputs": [],
   "source": [
    "#61固有値と固有ベクトルの定義\n",
    "A=np.array([\n",
    "    [2,5],\n",
    "    [3,-1]\n",
    "])\n",
    "eigenvalues, eigenvectors=np.linalg.eig(A)\n",
    "print('固有値',eigenvalues)\n",
    "print('固有ベクトル\\n',eigenvectors)\n",
    "P=eigenvectors\n",
    "D=np.diag(eigenvalues)\n",
    "print('直交化',D)\n",
    "Pinv=np.linalg.inv(P)\n",
    "Ar=P@D@Pinv\n",
    "print('再構成\\n',Ar)\n",
    "print('誤差',np.linalg.norm(A-Ar))"
   ]
  },
  {
   "cell_type": "code",
   "execution_count": null,
   "metadata": {},
   "outputs": [],
   "source": [
    "from random import randint"
   ]
  },
  {
   "cell_type": "code",
   "execution_count": null,
   "metadata": {},
   "outputs": [],
   "source": [
    "def gen_rnd_mx(n):\n",
    "    mx=[]\n",
    "    for i in range(n):\n",
    "        r=[]\n",
    "        for j in range(n):\n",
    "            r.append(randint(-10,10))\n",
    "        mx.append(r)\n",
    "    return np.array(mx)\n",
    "\n",
    "d2=gen_rnd_mx(2)\n",
    "print(d2)\n",
    "eigval,eigvec=np.linalg.eig(d2)\n",
    "print('固有値',eigval)\n",
    "print('固有ベクトル\\n',eigvec)\n",
    "\n",
    "d3=gen_rnd_mx(3)\n",
    "print(d3)\n",
    "eigval,eigvec=np.linalg.eig(d3)\n",
    "print('固有値',eigval)\n",
    "print('固有ベクトル\\n',eigvec)"
   ]
  },
  {
   "cell_type": "code",
   "execution_count": null,
   "metadata": {},
   "outputs": [],
   "source": [
    "#63対角化\n",
    "A=np.array([\n",
    "    [1,2],\n",
    "    [3,-1]\n",
    "])\n",
    "eigval,eigvec=np.linalg.eig(A)\n",
    "P=eigvec\n",
    "D=np.diag(eigval)\n",
    "Pinv=np.linalg.inv(P)\n",
    "print('PDP^-1\\n',P@D@Pinv)\n",
    "print(P)\n",
    "print(D)"
   ]
  },
  {
   "cell_type": "code",
   "execution_count": null,
   "metadata": {},
   "outputs": [],
   "source": [
    "#64対角化\n",
    "B=np.array([\n",
    "    [1,2,3],\n",
    "    [3,-1,0],\n",
    "    [-1,2,1]\n",
    "])\n",
    "eigval,eigvec=np.linalg.eig(B)\n",
    "P=eigvec\n",
    "D=np.diag(eigval)\n",
    "Pinv=np.linalg.inv(P)\n",
    "print('PDP^-1\\n',P@D@Pinv)\n",
    "print(P)\n",
    "print(D)"
   ]
  },
  {
   "cell_type": "code",
   "execution_count": null,
   "metadata": {},
   "outputs": [],
   "source": [
    "#65対角化できない行列の例\n",
    "B=np.array([\n",
    "    [0,1,0],\n",
    "    [0,0,1],\n",
    "    [0,0,0]\n",
    "])\n",
    "eigval,eigvec=np.linalg.eig(B)\n",
    "P=eigvec\n",
    "D=np.diag(eigval)\n",
    "Pinv=np.linalg.inv(P)\n",
    "print('PDP^-1\\n',P@D@Pinv)\n",
    "print(P)\n",
    "print(D)\n"
   ]
  },
  {
   "cell_type": "markdown",
   "metadata": {},
   "source": [
    "\n",
    "\n",
    "# 1. 最小サイズで対角化できない行列（2 × 2 ジョルダンブロック）\n",
    "\n",
    "$$\n",
    "A=\\begin{pmatrix}\n",
    "1 & 1\\\\[2pt]\n",
    "0 & 1\n",
    "\\end{pmatrix}\n",
    "$$\n",
    "\n",
    "1. **固有値**\n",
    "   $\\det(A-\\lambda I)=(1-\\lambda)^2$ → 固有値は $\\lambda=1$（重複度 2）。\n",
    "\n",
    "2. **固有空間（幾何学的重複度）**\n",
    "   $(A-I)v=0$ は\n",
    "\n",
    "   $$\n",
    "   \\begin{pmatrix}\n",
    "   0 & 1\\\\\n",
    "   0 & 0\n",
    "   \\end{pmatrix}v=0\n",
    "   \\quad\\Longrightarrow\\quad\n",
    "   v=\\begin{pmatrix}1\\\\0\\end{pmatrix}t,\\;t\\in\\mathbb{R}.\n",
    "   $$\n",
    "\n",
    "   → 固有ベクトルは 1 本しか得られず，幾何学的重複度 = 1。\n",
    "\n",
    "3. **判定**\n",
    "   幾何学的重複度 1 < 代数的重複度 2 ⇒ 対角化 **不可**。\n",
    "   （ジョルダン標準形は $J=\\begin{pmatrix}1&1\\\\0&1\\end{pmatrix}$ のまま。）\n",
    "\n",
    "---\n",
    "\n",
    "# 2. 完全に固有値 0 だけを持つ 3 × 3 ニルポテンﾄ行列\n",
    "\n",
    "$$\n",
    "B=\\begin{pmatrix}\n",
    "0 & 1 & 0\\\\\n",
    "0 & 0 & 1\\\\\n",
    "0 & 0 & 0\n",
    "\\end{pmatrix}\n",
    "$$\n",
    "\n",
    "* 特性多項式 $\\lambda^3$ → 固有値 0（重複度 3）。\n",
    "* 連立方程式 $Bv=0$ で得られる独立な固有ベクトルは\n",
    "  $\\begin{pmatrix}1\\\\0\\\\0\\end{pmatrix}$ だけ → 幾何学的重複度 = 1。\n",
    "  $1<3$ なので対角化不可（ジョルダン鎖長 3）。\n",
    "\n",
    "---\n",
    "\n",
    "# 3. 実数体では対角化できず，複素数体なら対角化できる行列\n",
    "\n",
    "$$\n",
    "C=\\begin{pmatrix}\n",
    "0 & -1\\\\\n",
    "1 & \\;\\;\\,0\n",
    "\\end{pmatrix}\n",
    "$$\n",
    "\n",
    "* $\\det(C-\\lambda I)=\\lambda^{2}+1$ → 固有値 $ \\lambda = \\pm i$（複素）。\n",
    "* **実数係数行列としては** 固有値が実数に存在しないため実対角化は不可能。\n",
    "* ただし複素数体に拡張すると固有値が 2 つとも異なるため対角化可能。\n",
    "\n",
    "> **ポイント**\n",
    "> 「実では非対角化だが複素なら可」というケースも，対象とする体を指定しないと評価が変わります。\n",
    "\n",
    "---\n",
    "\n",
    "# まとめ\n",
    "\n",
    "| 行列                                                            | 固有値（代数重複度） | 幾何学的重複度 | 判定          |\n",
    "| ------------------------------------------------------------- | ---------- | ------- | ----------- |\n",
    "| $A=\\begin{smallmatrix}1&1\\\\0&1\\end{smallmatrix}$            | $1$ (2)    | 1       | 対角化不可       |\n",
    "| $B=\\begin{smallmatrix}0&1&0\\\\0&0&1\\\\0&0&0\\end{smallmatrix}$ | $0$ (3)    | 1       | 対角化不可       |\n",
    "| $C=\\begin{smallmatrix}0&-1\\\\1&0\\end{smallmatrix}$           | $\\pm i$    | –       | 実では不可／複素では可 |\n",
    "\n",
    "これらはいずれも「**代数的重複度 > 幾何学的重複度**」または「**対象の体に固有値が含まれない**」ため，所望の基底をそろえられず対角化できません。\n"
   ]
  },
  {
   "cell_type": "code",
   "execution_count": null,
   "metadata": {},
   "outputs": [
    {
     "name": "stdout",
     "output_type": "stream",
     "text": [
      "[3. 1.]\n",
      "[[ 0.70710678 -0.70710678]\n",
      " [ 0.70710678  0.70710678]]\n"
     ]
    },
    {
     "data": {
      "image/png": "[encoded data removed]",
      "text/plain": [
       "<Figure size 600x600 with 1 Axes>"
      ]
     },
     "metadata": {},
     "output_type": "display_data"
    }
   ],
   "source": [
    "#66固有値の幾何学的意味\n",
    "A=np.array([[2,1],\n",
    "            [1,2]])\n",
    "\n",
    "eigvals,eigvecs=np.linalg.eig(A)\n",
    "print(eigvals)\n",
    "print(eigvecs)\n",
    "fig, ax = plt.subplots(figsize=(6, 6))\n",
    "ax.set_aspect('equal')\n",
    "\n",
    "# 座標軸\n",
    "ax.axhline(0, color='gray', linewidth=0.5)\n",
    "ax.axvline(0, color='gray', linewidth=0.5)\n",
    "ax.grid(True, linewidth=0.3)\n",
    "\n",
    "colors = ['tab:blue', 'tab:orange', 'tab:green', 'tab:red']\n",
    "for i, (lam, vec) in enumerate(zip(eigvals, eigvecs.T)):\n",
    "    v_unit = vec / np.linalg.norm(vec)   # 単位固有ベクトル\n",
    "    v_scaled = lam * v_unit              # λ_i · v_i\n",
    "\n",
    "    # 固有ベクトル\n",
    "    ax.quiver(0, 0,\n",
    "                v_unit[0], v_unit[1],\n",
    "                angles='xy', scale_units='xy', scale=1,\n",
    "                color=colors[i % len(colors)],\n",
    "                label=f'$v_{i+1}$')\n",
    "    # スケーリング後\n",
    "    ax.quiver(0, 0,\n",
    "                v_scaled[0], v_scaled[1],\n",
    "                angles='xy', scale_units='xy', scale=1,\n",
    "                color=colors[i % len(colors)],\n",
    "                label=f'$\\\\lambda_{i+1}\\\\,v_{i+1}$')\n",
    "\n",
    "    # ラベルを少し離して書く\n",
    "    ax.text(*(v_unit * 1.1), f'$v_{i+1}$', fontsize=10)\n",
    "    ax.text(*(v_scaled * 1.1), f'{lam:.2f}$\\\\,v_{i+1}$', fontsize=10)\n",
    "\n",
    "ax.set_xlim(-5, 5)\n",
    "ax.set_ylim(-5, 5)\n",
    "ax.set_xlabel('x')\n",
    "ax.set_ylabel('y')\n",
    "ax.set_title('Eigenvectors and Their Scaling by Eigenvalues')\n",
    "ax.legend()\n",
    "plt.show()"
   ]
  },
  {
   "cell_type": "markdown",
   "metadata": {},
   "source": [
    "応用のヒント\n",
    "\n",
    "主成分分析（PCA）では共分散行列の固有ベクトルが “最もばらつきが大きい方向” を指し、対応する固有値がその分散量を表します。\n",
    "\n",
    "物理シミュレーションでは内部応力テンソルの固有値・固有ベクトルが “主応力” とその方向を与えます。\n",
    "どちらも「方向を保ったままスケールする」という特徴を利用しています。 "
   ]
  },
  {
   "cell_type": "code",
   "execution_count": null,
   "metadata": {},
   "outputs": [],
   "source": [
    "import plotly.graph_objs as go\n",
    "import plotly.io as pio        # ★ 追加\n",
    "pio.renderers.default = \"browser\"   # ★ 追加：既定ブラウザで開く\n",
    "\n",
    "# ------------- 3×3 行列を自由に変更 -------------\n",
    "A = np.array([[3, 1, 0],\n",
    "              [1, 2, 0],\n",
    "              [0, 0, 1]])\n",
    "# ----------------------------------------------\n",
    "\n",
    "eigvals, eigvecs = np.linalg.eig(A)\n",
    "data = []\n",
    "\n",
    "# 座標軸\n",
    "axis_len = 4\n",
    "for axis, vec in zip(['x', 'y', 'z'], np.eye(3)):\n",
    "    data.append(go.Scatter3d(x=[0, axis_len*vec[0]],\n",
    "                             y=[0, axis_len*vec[1]],\n",
    "                             z=[0, axis_len*vec[2]],\n",
    "                             mode='lines',\n",
    "                             line=dict(width=5, color='gray'),\n",
    "                             name=f'{axis}-axis'))\n",
    "\n",
    "# 固有ベクトルと λ·v\n",
    "for lam, vec in zip(eigvals, eigvecs.T):\n",
    "    v = vec / np.linalg.norm(vec)\n",
    "    v_scaled = lam * v\n",
    "    # 単位固有ベクトル\n",
    "    data.append(go.Scatter3d(x=[0, v[0]], y=[0, v[1]], z=[0, v[2]],\n",
    "                             mode='lines+markers',\n",
    "                             line=dict(width=6),\n",
    "                             name='v'))\n",
    "    # λ 倍\n",
    "    data.append(go.Scatter3d(x=[0, v_scaled[0]], y=[0, v_scaled[1]], z=[0, v_scaled[2]],\n",
    "                             mode='lines',\n",
    "                             line=dict(width=4, dash='dash'),\n",
    "                             name=f'{lam:.2f}·v'))\n",
    "\n",
    "fig = go.Figure(data=data)\n",
    "fig.update_layout(scene=dict(xaxis=dict(range=[-axis_len, axis_len]),\n",
    "                             yaxis=dict(range=[-axis_len, axis_len]),\n",
    "                             zaxis=dict(range=[-axis_len, axis_len])),\n",
    "                  width=700, height=700,\n",
    "                  title='Interactive 3-D Eigenvectors (Plotly)')\n",
    "fig.show()\n"
   ]
  },
  {
   "cell_type": "code",
   "execution_count": null,
   "metadata": {},
   "outputs": [
    {
     "name": "stdout",
     "output_type": "stream",
     "text": [
      "対角成分： 1 固有値の和 1.0\n",
      "対角成分： 12 固有値の和 12.0\n",
      "対角成分： 2 固有値の和 2.0\n",
      "対角成分： 22 固有値の和 (21.999999999999993+0j)\n"
     ]
    }
   ],
   "source": [
    "#68行列のトレースと固有値の関係\n",
    "A1=np.array([\n",
    "    [2,1],\n",
    "    [3,-1]\n",
    "    ])\n",
    "A2=np.array([\n",
    "    [2,5],\n",
    "    [-1,10]\n",
    "])\n",
    "r=[A1,A2]\n",
    "for A in r:\n",
    "    la=len(A)\n",
    "    c=0\n",
    "    for i in range(la):\n",
    "        c+=A[i][i]\n",
    "    eigval,eigvec=np.linalg.eig(A)\n",
    "    print('対角成分：',c,'固有値の和',sum(eigval))\n",
    "\n",
    "B1=np.array([\n",
    "    [2,1,1],\n",
    "    [3,-1,0],\n",
    "    [0,1,1]\n",
    "    ])\n",
    "B2=np.array([\n",
    "    [2,5,6],\n",
    "    [-1,10,-1],\n",
    "    [1,1,10]\n",
    "])\n",
    "r=[B1,B2]\n",
    "for A in r:\n",
    "    la=len(A)\n",
    "    c=0\n",
    "    for i in range(la):\n",
    "        c+=A[i][i]\n",
    "    eigval,eigvec=np.linalg.eig(A)\n",
    "    print('対角成分：',c,'固有値の和',sum(eigval))\n"
   ]
  },
  {
   "cell_type": "code",
   "execution_count": null,
   "metadata": {},
   "outputs": [
    {
     "name": "stdout",
     "output_type": "stream",
     "text": [
      "行列式： -5.000000000000001 固有値の和 -5.0\n",
      "行列式： 25.000000000000007 固有値の和 25.0\n",
      "行列式： -1.9999999999999998 固有値の和 -1.9999999999999978\n",
      "行列式： 181.00000000000006 固有値の和 (180.99999999999983+0j)\n"
     ]
    }
   ],
   "source": [
    "#69行列式と固有値の関係\n",
    "r=[A1,A2]\n",
    "for A in r:\n",
    "    la=len(A)\n",
    "    c=0\n",
    "    detA=np.linalg.det(A)\n",
    "    eigval,eigvec=np.linalg.eig(A)\n",
    "    c=1\n",
    "    for e in eigval:\n",
    "        c*=e\n",
    "    print('行列式：',detA,'固有値の和',c)\n",
    "r=[B1,B2]\n",
    "for A in r:\n",
    "    la=len(A)\n",
    "    c=0\n",
    "    detA=np.linalg.det(A)\n",
    "    eigval,eigvec=np.linalg.eig(A)\n",
    "    c=1\n",
    "    for e in eigval:\n",
    "        c*=e\n",
    "    print('行列式：',detA,'固有値の和',c)"
   ]
  },
  {
   "cell_type": "code",
   "execution_count": 14,
   "metadata": {},
   "outputs": [
    {
     "name": "stdout",
     "output_type": "stream",
     "text": [
      "任意の初期ベクトル： [0.98826843 0.15272694]\n",
      "収束する様子： [0.98826843 0.15272694] [0.41794994 0.90847006] [0.98826843 0.15272694] [0.41794994 0.90847006] [0.98826843 0.15272694] [0.41794994 0.90847006] [0.98826843 0.15272694] [0.41794994 0.90847006] [0.98826843 0.15272694] [0.41794994 0.90847006] [0.98826843 0.15272694] [0.41794994 0.90847006] [0.98826843 0.15272694] [0.41794994 0.90847006] [0.98826843 0.15272694] [0.41794994 0.90847006] [0.98826843 0.15272694] [0.41794994 0.90847006] [0.98826843 0.15272694] [0.41794994 0.90847006] [0.98826843 0.15272694] [0.41794994 0.90847006] [0.98826843 0.15272694] [0.41794994 0.90847006] [0.98826843 0.15272694] [0.41794994 0.90847006] [0.98826843 0.15272694] [0.41794994 0.90847006] [0.98826843 0.15272694] [0.41794994 0.90847006] [0.98826843 0.15272694] [0.41794994 0.90847006] [0.98826843 0.15272694] [0.41794994 0.90847006] [0.98826843 0.15272694] [0.41794994 0.90847006] [0.98826843 0.15272694] [0.41794994 0.90847006] [0.98826843 0.15272694] [0.41794994 0.90847006] [0.98826843 0.15272694] [0.41794994 0.90847006] [0.98826843 0.15272694] [0.41794994 0.90847006] [0.98826843 0.15272694] [0.41794994 0.90847006] [0.98826843 0.15272694] [0.41794994 0.90847006] [0.98826843 0.15272694] [0.41794994 0.90847006] [0.98826843 0.15272694] [0.41794994 0.90847006] [0.98826843 0.15272694] [0.41794994 0.90847006] [0.98826843 0.15272694] [0.41794994 0.90847006] [0.98826843 0.15272694] [0.41794994 0.90847006] [0.98826843 0.15272694] [0.41794994 0.90847006] [0.98826843 0.15272694] [0.41794994 0.90847006] [0.98826843 0.15272694] [0.41794994 0.90847006] [0.98826843 0.15272694] [0.41794994 0.90847006] [0.98826843 0.15272694] [0.41794994 0.90847006] [0.98826843 0.15272694] [0.41794994 0.90847006] [0.98826843 0.15272694] [0.41794994 0.90847006] [0.98826843 0.15272694] [0.41794994 0.90847006] [0.98826843 0.15272694] [0.41794994 0.90847006] [0.98826843 0.15272694] [0.41794994 0.90847006] [0.98826843 0.15272694] [0.41794994 0.90847006] [0.98826843 0.15272694] [0.41794994 0.90847006] [0.98826843 0.15272694] [0.41794994 0.90847006] [0.98826843 0.15272694] [0.41794994 0.90847006] [0.98826843 0.15272694] [0.41794994 0.90847006] [0.98826843 0.15272694] [0.41794994 0.90847006] [0.98826843 0.15272694] [0.41794994 0.90847006] [0.98826843 0.15272694] [0.41794994 0.90847006] [0.98826843 0.15272694] [0.41794994 0.90847006] [0.98826843 0.15272694] [0.41794994 0.90847006] [0.98826843 0.15272694] [0.41794994 0.90847006] [0.98826843 0.15272694] [0.41794994 0.90847006] [0.98826843 0.15272694] [0.41794994 0.90847006] [0.98826843 0.15272694] [0.41794994 0.90847006] [0.98826843 0.15272694] [0.41794994 0.90847006] [0.98826843 0.15272694] [0.41794994 0.90847006] [0.98826843 0.15272694] [0.41794994 0.90847006] [0.98826843 0.15272694] [0.41794994 0.90847006] [0.98826843 0.15272694] [0.41794994 0.90847006] [0.98826843 0.15272694] [0.41794994 0.90847006] [0.98826843 0.15272694] [0.41794994 0.90847006] [0.98826843 0.15272694] [0.41794994 0.90847006] [0.98826843 0.15272694] [0.41794994 0.90847006] [0.98826843 0.15272694] [0.41794994 0.90847006] [0.98826843 0.15272694] [0.41794994 0.90847006] [0.98826843 0.15272694] [0.41794994 0.90847006] [0.98826843 0.15272694] [0.41794994 0.90847006] [0.98826843 0.15272694] [0.41794994 0.90847006] [0.98826843 0.15272694] [0.41794994 0.90847006] [0.98826843 0.15272694] [0.41794994 0.90847006] [0.98826843 0.15272694] [0.41794994 0.90847006] [0.98826843 0.15272694] [0.41794994 0.90847006] [0.98826843 0.15272694] [0.41794994 0.90847006] [0.98826843 0.15272694] [0.41794994 0.90847006] [0.98826843 0.15272694] [0.41794994 0.90847006] [0.98826843 0.15272694] [0.41794994 0.90847006] [0.98826843 0.15272694] [0.41794994 0.90847006] [0.98826843 0.15272694] [0.41794994 0.90847006] [0.98826843 0.15272694] [0.41794994 0.90847006] [0.98826843 0.15272694] [0.41794994 0.90847006] [0.98826843 0.15272694] [0.41794994 0.90847006] [0.98826843 0.15272694] [0.41794994 0.90847006] [0.98826843 0.15272694] [0.41794994 0.90847006] [0.98826843 0.15272694] [0.41794994 0.90847006] [0.98826843 0.15272694] [0.41794994 0.90847006] [0.98826843 0.15272694] [0.41794994 0.90847006] [0.98826843 0.15272694] [0.41794994 0.90847006] [0.98826843 0.15272694] [0.41794994 0.90847006] [0.98826843 0.15272694] [0.41794994 0.90847006] [0.98826843 0.15272694] [0.41794994 0.90847006] [0.98826843 0.15272694] [0.41794994 0.90847006] [0.98826843 0.15272694] [0.41794994 0.90847006] [0.98826843 0.15272694] [0.41794994 0.90847006] [0.98826843 0.15272694] [0.41794994 0.90847006] [0.98826843 0.15272694] [0.41794994 0.90847006] [0.98826843 0.15272694] [0.41794994 0.90847006] [0.98826843 0.15272694] [0.41794994 0.90847006] [0.98826843 0.15272694] [0.41794994 0.90847006] [0.98826843 0.15272694] [0.41794994 0.90847006] [0.98826843 0.15272694] [0.41794994 0.90847006] [0.98826843 0.15272694] [0.41794994 0.90847006] [0.98826843 0.15272694] [0.41794994 0.90847006] [0.98826843 0.15272694] [0.41794994 0.90847006] [0.98826843 0.15272694] [0.41794994 0.90847006] [0.98826843 0.15272694] [0.41794994 0.90847006] [0.98826843 0.15272694] [0.41794994 0.90847006] [0.98826843 0.15272694] [0.41794994 0.90847006] [0.98826843 0.15272694] [0.41794994 0.90847006] [0.98826843 0.15272694] [0.41794994 0.90847006] [0.98826843 0.15272694] [0.41794994 0.90847006] [0.98826843 0.15272694] [0.41794994 0.90847006] [0.98826843 0.15272694] [0.41794994 0.90847006] [0.98826843 0.15272694] [0.41794994 0.90847006] [0.98826843 0.15272694] [0.41794994 0.90847006] [0.98826843 0.15272694] [0.41794994 0.90847006] [0.98826843 0.15272694] [0.41794994 0.90847006] [0.98826843 0.15272694] [0.41794994 0.90847006] [0.98826843 0.15272694] [0.41794994 0.90847006] [0.98826843 0.15272694] [0.41794994 0.90847006] [0.98826843 0.15272694] [0.41794994 0.90847006] [0.98826843 0.15272694] [0.41794994 0.90847006] [0.98826843 0.15272694] [0.41794994 0.90847006] [0.98826843 0.15272694] [0.41794994 0.90847006] [0.98826843 0.15272694] [0.41794994 0.90847006] [0.98826843 0.15272694] [0.41794994 0.90847006] [0.98826843 0.15272694] [0.41794994 0.90847006] [0.98826843 0.15272694] [0.41794994 0.90847006] [0.98826843 0.15272694] [0.41794994 0.90847006] [0.98826843 0.15272694] [0.41794994 0.90847006] [0.98826843 0.15272694] [0.41794994 0.90847006] [0.98826843 0.15272694] [0.41794994 0.90847006] [0.98826843 0.15272694] [0.41794994 0.90847006] [0.98826843 0.15272694] [0.41794994 0.90847006] [0.98826843 0.15272694] [0.41794994 0.90847006] [0.98826843 0.15272694] [0.41794994 0.90847006] [0.98826843 0.15272694] [0.41794994 0.90847006] [0.98826843 0.15272694] [0.41794994 0.90847006] [0.98826843 0.15272694] [0.41794994 0.90847006] [0.98826843 0.15272694] [0.41794994 0.90847006] [0.98826843 0.15272694] [0.41794994 0.90847006] [0.98826843 0.15272694] [0.41794994 0.90847006] [0.98826843 0.15272694] [0.41794994 0.90847006] [0.98826843 0.15272694] [0.41794994 0.90847006] [0.98826843 0.15272694] [0.41794994 0.90847006] [0.98826843 0.15272694] [0.41794994 0.90847006] [0.98826843 0.15272694] [0.41794994 0.90847006] [0.98826843 0.15272694] [0.41794994 0.90847006] [0.98826843 0.15272694] [0.41794994 0.90847006] [0.98826843 0.15272694] [0.41794994 0.90847006] [0.98826843 0.15272694] [0.41794994 0.90847006] [0.98826843 0.15272694] [0.41794994 0.90847006] [0.98826843 0.15272694] [0.41794994 0.90847006] [0.98826843 0.15272694] [0.41794994 0.90847006] [0.98826843 0.15272694] [0.41794994 0.90847006] [0.98826843 0.15272694] [0.41794994 0.90847006] [0.98826843 0.15272694] [0.41794994 0.90847006] [0.98826843 0.15272694] [0.41794994 0.90847006] [0.98826843 0.15272694] [0.41794994 0.90847006] [0.98826843 0.15272694] [0.41794994 0.90847006] [0.98826843 0.15272694] [0.41794994 0.90847006] [0.98826843 0.15272694] [0.41794994 0.90847006] [0.98826843 0.15272694] [0.41794994 0.90847006] [0.98826843 0.15272694] [0.41794994 0.90847006] [0.98826843 0.15272694] [0.41794994 0.90847006] [0.98826843 0.15272694] [0.41794994 0.90847006] [0.98826843 0.15272694] [0.41794994 0.90847006] [0.98826843 0.15272694] [0.41794994 0.90847006] [0.98826843 0.15272694] [0.41794994 0.90847006] [0.98826843 0.15272694] [0.41794994 0.90847006] [0.98826843 0.15272694] [0.41794994 0.90847006] [0.98826843 0.15272694] [0.41794994 0.90847006] [0.98826843 0.15272694] [0.41794994 0.90847006] [0.98826843 0.15272694] [0.41794994 0.90847006] [0.98826843 0.15272694] [0.41794994 0.90847006] [0.98826843 0.15272694] [0.41794994 0.90847006] [0.98826843 0.15272694] [0.41794994 0.90847006] [0.98826843 0.15272694] [0.41794994 0.90847006] [0.98826843 0.15272694] [0.41794994 0.90847006] [0.98826843 0.15272694] [0.41794994 0.90847006] [0.98826843 0.15272694] [0.41794994 0.90847006] [0.98826843 0.15272694] [0.41794994 0.90847006] [0.98826843 0.15272694] [0.41794994 0.90847006] [0.98826843 0.15272694] [0.41794994 0.90847006] [0.98826843 0.15272694] [0.41794994 0.90847006] [0.98826843 0.15272694] [0.41794994 0.90847006] [0.98826843 0.15272694] [0.41794994 0.90847006] [0.98826843 0.15272694] [0.41794994 0.90847006] [0.98826843 0.15272694] [0.41794994 0.90847006] [0.98826843 0.15272694] [0.41794994 0.90847006] [0.98826843 0.15272694] [0.41794994 0.90847006] [0.98826843 0.15272694] [0.41794994 0.90847006] [0.98826843 0.15272694] [0.41794994 0.90847006] [0.98826843 0.15272694] [0.41794994 0.90847006] [0.98826843 0.15272694] [0.41794994 0.90847006] [0.98826843 0.15272694] [0.41794994 0.90847006] [0.98826843 0.15272694] [0.41794994 0.90847006] [0.98826843 0.15272694] [0.41794994 0.90847006] [0.98826843 0.15272694] [0.41794994 0.90847006] [0.98826843 0.15272694] [0.41794994 0.90847006] [0.98826843 0.15272694] [0.41794994 0.90847006] [0.98826843 0.15272694] [0.41794994 0.90847006] [0.98826843 0.15272694] [0.41794994 0.90847006] [0.98826843 0.15272694] [0.41794994 0.90847006] [0.98826843 0.15272694] [0.41794994 0.90847006] [0.98826843 0.15272694] [0.41794994 0.90847006] [0.98826843 0.15272694] [0.41794994 0.90847006] [0.98826843 0.15272694] [0.41794994 0.90847006] [0.98826843 0.15272694] [0.41794994 0.90847006] [0.98826843 0.15272694] [0.41794994 0.90847006] [0.98826843 0.15272694] [0.41794994 0.90847006] [0.98826843 0.15272694] [0.41794994 0.90847006] [0.98826843 0.15272694] [0.41794994 0.90847006] [0.98826843 0.15272694] [0.41794994 0.90847006] [0.98826843 0.15272694] [0.41794994 0.90847006] [0.98826843 0.15272694] [0.41794994 0.90847006] [0.98826843 0.15272694] [0.41794994 0.90847006] [0.98826843 0.15272694] [0.41794994 0.90847006] [0.98826843 0.15272694] [0.41794994 0.90847006] [0.98826843 0.15272694] [0.41794994 0.90847006] [0.98826843 0.15272694] [0.41794994 0.90847006] [0.98826843 0.15272694] [0.41794994 0.90847006] [0.98826843 0.15272694] [0.41794994 0.90847006] [0.98826843 0.15272694] [0.41794994 0.90847006] [0.98826843 0.15272694] [0.41794994 0.90847006] [0.98826843 0.15272694] [0.41794994 0.90847006] [0.98826843 0.15272694] [0.41794994 0.90847006] [0.98826843 0.15272694] [0.41794994 0.90847006] [0.98826843 0.15272694] [0.41794994 0.90847006] [0.98826843 0.15272694] [0.41794994 0.90847006] [0.98826843 0.15272694] [0.41794994 0.90847006] [0.98826843 0.15272694] [0.41794994 0.90847006] [0.98826843 0.15272694] [0.41794994 0.90847006] [0.98826843 0.15272694] [0.41794994 0.90847006] [0.98826843 0.15272694] [0.41794994 0.90847006] [0.98826843 0.15272694] [0.41794994 0.90847006] [0.98826843 0.15272694] [0.41794994 0.90847006] [0.98826843 0.15272694] [0.41794994 0.90847006] [0.98826843 0.15272694] [0.41794994 0.90847006] [0.98826843 0.15272694] [0.41794994 0.90847006] [0.98826843 0.15272694] [0.41794994 0.90847006] [0.98826843 0.15272694] [0.41794994 0.90847006] [0.98826843 0.15272694] [0.41794994 0.90847006] [0.98826843 0.15272694] [0.41794994 0.90847006] [0.98826843 0.15272694] [0.41794994 0.90847006] [0.98826843 0.15272694] [0.41794994 0.90847006] [0.98826843 0.15272694] [0.41794994 0.90847006] [0.98826843 0.15272694] [0.41794994 0.90847006] [0.98826843 0.15272694] [0.41794994 0.90847006] [0.98826843 0.15272694] [0.41794994 0.90847006] [0.98826843 0.15272694] [0.41794994 0.90847006] [0.98826843 0.15272694] [0.41794994 0.90847006] [0.98826843 0.15272694]\n"
     ]
    },
    {
     "data": {
      "image/png": "[encoded data removed]",
      "text/plain": [
       "<Figure size 600x300 with 1 Axes>"
      ]
     },
     "metadata": {},
     "output_type": "display_data"
    },
    {
     "data": {
      "image/png": "[encoded data removed]",
      "text/plain": [
       "<Figure size 400x400 with 1 Axes>"
      ]
     },
     "metadata": {},
     "output_type": "display_data"
    },
    {
     "name": "stdout",
     "output_type": "stream",
     "text": [
      "λ_max ≈ 1.7080250073\n",
      "eigenvector ≈ [0.98826843 0.15272694]\n",
      "iterations  = 500\n"
     ]
    }
   ],
   "source": [
    "import numpy as np\n",
    "import matplotlib.pyplot as plt\n",
    "\n",
    "\n",
    "def power_method_2d(A, max_iter=500, tol=1e-12):\n",
    "    \"\"\"\n",
    "    2×2 行列 A の最大固有値と固有ベクトルをパワーメソッドで近似し，\n",
    "    反復ごとのベクトルも記録する。\n",
    "    \"\"\"\n",
    "    v = np.random.rand(2)\n",
    "    v /= np.linalg.norm(v)\n",
    "    print('任意の初期ベクトル：',v)\n",
    "    hist = [v.copy()]\n",
    "\n",
    "    λ_old = 0.0\n",
    "    for _ in range(max_iter):\n",
    "        w = A @ v\n",
    "        v = w / np.linalg.norm(w)\n",
    "        hist.append(v.copy())\n",
    "        λ = v @ (A @ v)         \n",
    "\n",
    "        if abs(λ - λ_old) < tol * abs(λ):\n",
    "            break\n",
    "        λ_old = λ\n",
    "    print('収束する様子：',*hist)\n",
    "    return λ, v, hist\n",
    "\n",
    "A = np.array([[1, 2],\n",
    "              [3, -1]], dtype=float)\n",
    "\n",
    "lam, vec, hist = power_method_2d(A)\n",
    "steps = np.arange(len(hist))\n",
    "xs = [v[0] for v in hist]\n",
    "ys = [v[1] for v in hist]\n",
    "\n",
    "# 1. 成分の収束\n",
    "plt.figure(figsize=(6, 3))\n",
    "plt.plot(steps, xs, marker='o', label='v[0]')\n",
    "plt.plot(steps, ys, marker='s', label='v[1]')\n",
    "plt.xlabel('iteration')\n",
    "plt.ylabel('component value')\n",
    "plt.title('Power-method convergence (components)')\n",
    "plt.legend()\n",
    "plt.grid(True)\n",
    "\n",
    "# 2. 単位円上の軌跡\n",
    "plt.figure(figsize=(4, 4))\n",
    "plt.plot(xs, ys, marker='o')\n",
    "circle = plt.Circle((0, 0), 1, color='gray', fill=False, linestyle='--')\n",
    "plt.gca().add_patch(circle)\n",
    "plt.xlabel('x component')\n",
    "plt.ylabel('y component')\n",
    "plt.title('Trajectory of v on unit circle')\n",
    "plt.gca().set_aspect('equal', adjustable='box')\n",
    "plt.grid(True)\n",
    "\n",
    "plt.show()\n",
    "\n",
    "print(f'λ_max ≈ {lam:.10f}')\n",
    "print('eigenvector ≈', vec)\n",
    "print('iterations  =', len(hist) - 1)"
   ]
  }
 ],
 "metadata": {
  "kernelspec": {
   "display_name": "venv",
   "language": "python",
   "name": "python3"
  },
  "language_info": {
   "codemirror_mode": {
    "name": "ipython",
    "version": 3
   },
   "file_extension": ".py",
   "mimetype": "text/x-python",
   "name": "python",
   "nbconvert_exporter": "python",
   "pygments_lexer": "ipython3",
   "version": "3.13.2"
  }
 },
 "nbformat": 4,
 "nbformat_minor": 2
}
