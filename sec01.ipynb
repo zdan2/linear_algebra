{
 "cells": [
  {
   "cell_type": "code",
   "execution_count": 1,
   "id": "8c619360",
   "metadata": {},
   "outputs": [],
   "source": [
    "import numpy as np"
   ]
  },
  {
   "cell_type": "code",
   "execution_count": 2,
   "id": "a0d6d2a8",
   "metadata": {},
   "outputs": [
    {
     "data": {
      "text/plain": [
       "array([1, 2])"
      ]
     },
     "execution_count": 2,
     "metadata": {},
     "output_type": "execute_result"
    }
   ],
   "source": [
    "A=np.array([1,2])\n",
    "B=np.array([3,4,5])\n",
    "A"
   ]
  },
  {
   "cell_type": "code",
   "execution_count": 3,
   "id": "8814f266",
   "metadata": {},
   "outputs": [
    {
     "data": {
      "text/plain": [
       "array([3, 4, 5])"
      ]
     },
     "execution_count": 3,
     "metadata": {},
     "output_type": "execute_result"
    }
   ],
   "source": [
    "B"
   ]
  },
  {
   "cell_type": "code",
   "execution_count": 5,
   "id": "98ebc005",
   "metadata": {},
   "outputs": [
    {
     "name": "stdout",
     "output_type": "stream",
     "text": [
      "[3 6]\n",
      "[1, 2, 2, 4]\n"
     ]
    }
   ],
   "source": [
    "A=[1,2]\n",
    "B=[2,4]\n",
    "va=np.array(A)\n",
    "vb=np.array(B)\n",
    "print(va+vb)\n",
    "print(A+B)"
   ]
  },
  {
   "cell_type": "code",
   "execution_count": 6,
   "id": "c5dc210b",
   "metadata": {},
   "outputs": [
    {
     "name": "stdout",
     "output_type": "stream",
     "text": [
      "[-1 -2]\n",
      "[1 2]\n"
     ]
    }
   ],
   "source": [
    "print(va-vb)\n",
    "print(vb-va)"
   ]
  },
  {
   "cell_type": "code",
   "execution_count": 7,
   "id": "e713d276",
   "metadata": {},
   "outputs": [
    {
     "name": "stdout",
     "output_type": "stream",
     "text": [
      "[3 6]\n",
      "[0.5 1. ]\n"
     ]
    }
   ],
   "source": [
    "i=3\n",
    "f=0.5\n",
    "print(i*va)\n",
    "print(f*va)"
   ]
  },
  {
   "cell_type": "code",
   "execution_count": 8,
   "id": "c924745e",
   "metadata": {},
   "outputs": [
    {
     "name": "stdout",
     "output_type": "stream",
     "text": [
      "[3 6 5]\n"
     ]
    }
   ],
   "source": [
    "vc=np.array([3,4,5])\n",
    "vc[1]=6\n",
    "print(vc)"
   ]
  },
  {
   "cell_type": "code",
   "execution_count": 10,
   "id": "717632aa",
   "metadata": {},
   "outputs": [
    {
     "data": {
      "text/plain": [
       "array([0., 0., 0.])"
      ]
     },
     "execution_count": 10,
     "metadata": {},
     "output_type": "execute_result"
    }
   ],
   "source": [
    "vz=np.zeros(3)\n",
    "vz"
   ]
  },
  {
   "cell_type": "code",
   "execution_count": 11,
   "id": "92447c02",
   "metadata": {},
   "outputs": [],
   "source": [
    "ex=np.array([1,0,0])\n",
    "ey=np.array([0,1,0])\n",
    "ez=np.array([0,0,1])\n"
   ]
  },
  {
   "cell_type": "code",
   "execution_count": 14,
   "id": "1b81e1f0",
   "metadata": {},
   "outputs": [
    {
     "data": {
      "text/plain": [
       "np.float64(2.23606797749979)"
      ]
     },
     "execution_count": 14,
     "metadata": {},
     "output_type": "execute_result"
    }
   ],
   "source": [
    "nva=np.linalg.norm(va)\n",
    "nva"
   ]
  },
  {
   "cell_type": "code",
   "execution_count": 15,
   "id": "229a84b1",
   "metadata": {},
   "outputs": [
    {
     "name": "stdout",
     "output_type": "stream",
     "text": [
      "2.23606797749979\n"
     ]
    }
   ],
   "source": [
    "n=0\n",
    "for e in va:\n",
    "    n+=e*e\n",
    "n**=0.5\n",
    "print(n)"
   ]
  },
  {
   "cell_type": "code",
   "execution_count": null,
   "id": "7627c0be",
   "metadata": {},
   "outputs": [
    {
     "data": {
      "text/plain": [
       "array([0.4472136 , 0.89442719])"
      ]
     },
     "execution_count": 16,
     "metadata": {},
     "output_type": "execute_result"
    }
   ],
   "source": [
    "va_normalized=va/nva\n",
    "va_normalized"
   ]
  },
  {
   "cell_type": "code",
   "execution_count": 17,
   "id": "127b357b",
   "metadata": {},
   "outputs": [
    {
     "data": {
      "text/plain": [
       "np.float64(0.9999999999999999)"
      ]
     },
     "execution_count": 17,
     "metadata": {},
     "output_type": "execute_result"
    }
   ],
   "source": [
    "np.linalg.norm(va_normalized)"
   ]
  },
  {
   "cell_type": "code",
   "execution_count": 18,
   "id": "15d79b7b",
   "metadata": {},
   "outputs": [
    {
     "data": {
      "text/plain": [
       "np.int64(-38)"
      ]
     },
     "execution_count": 18,
     "metadata": {},
     "output_type": "execute_result"
    }
   ],
   "source": [
    "C=[2,5]\n",
    "D=[1,-8]\n",
    "vc=np.array(C)\n",
    "vd=np.array(D)\n",
    "np.dot(vc,vd)"
   ]
  },
  {
   "cell_type": "code",
   "execution_count": 19,
   "id": "f3adf53c",
   "metadata": {},
   "outputs": [
    {
     "data": {
      "text/plain": [
       "np.int64(-38)"
      ]
     },
     "execution_count": 19,
     "metadata": {},
     "output_type": "execute_result"
    }
   ],
   "source": [
    "vc@vd"
   ]
  },
  {
   "cell_type": "code",
   "execution_count": null,
   "id": "f363751c",
   "metadata": {},
   "outputs": [],
   "source": []
  }
 ],
 "metadata": {
  "kernelspec": {
   "display_name": "venv",
   "language": "python",
   "name": "python3"
  },
  "language_info": {
   "codemirror_mode": {
    "name": "ipython",
    "version": 3
   },
   "file_extension": ".py",
   "mimetype": "text/x-python",
   "name": "python",
   "nbconvert_exporter": "python",
   "pygments_lexer": "ipython3",
   "version": "3.12.1"
  }
 },
 "nbformat": 4,
 "nbformat_minor": 5
}
